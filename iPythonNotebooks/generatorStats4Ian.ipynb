{
 "cells": [
  {
   "cell_type": "code",
   "execution_count": 1,
   "metadata": {},
   "outputs": [
    {
     "name": "stderr",
     "output_type": "stream",
     "text": [
      "/usr/local/lib/python2.7/dist-packages/h5py/__init__.py:36: FutureWarning: Conversion of the second argument of issubdtype from `float` to `np.floating` is deprecated. In future, it will be treated as `np.float64 == np.dtype(float).type`.\n",
      "  from ._conv import register_converters as _register_converters\n",
      "/usr/local/lib/python2.7/dist-packages/requests/__init__.py:83: RequestsDependencyWarning: Old version of cryptography ([1, 2, 3]) may cause slowdown.\n",
      "  warnings.warn(warning, RequestsDependencyWarning)\n",
      "Using TensorFlow backend.\n"
     ]
    }
   ],
   "source": [
    "import matplotlib.pyplot as plt\n",
    "import tensorflow as tf\n",
    "from keras.backend.tensorflow_backend import set_session\n",
    "config = tf.ConfigProto()\n",
    "config.gpu_options.per_process_gpu_memory_fraction = 0.8\n",
    "config.gpu_options.allow_growth = True\n",
    "config.gpu_options.visible_device_list=\"0\"\n",
    "set_session(tf.Session(config=config))\n",
    "\n",
    "'Import keras'\n",
    "from keras.models import Model, Sequential\n",
    "from keras.layers import *\n",
    "from keras import regularizers\n",
    "from keras.callbacks import TensorBoard\n",
    "from keras.optimizers import Adam\n",
    "from tqdm import tqdm\n",
    "import pandas as pd\n",
    "\n",
    "'import spectral Python'\n",
    "import spectral.io.envi as envi\n",
    "\n",
    "from ganTraining.GANModel_1d import GANModel_1d\n",
    "\n",
    "%matplotlib notebook"
   ]
  },
  {
   "cell_type": "code",
   "execution_count": 2,
   "metadata": {},
   "outputs": [
    {
     "name": "stdout",
     "output_type": "stream",
     "text": [
      "WARNING:tensorflow:From /usr/local/lib/python2.7/dist-packages/tensorflow/python/util/deprecation.py:497: calling conv1d (from tensorflow.python.ops.nn_ops) with data_format=NHWC is deprecated and will be removed in a future version.\n",
      "Instructions for updating:\n",
      "`NHWC` for data_format is deprecated, use `NWC` instead\n",
      "_________________________________________________________________\n",
      "Layer (type)                 Output Shape              Param #   \n",
      "=================================================================\n",
      "dense_1 (Dense)              (None, 3750)              191250    \n",
      "_________________________________________________________________\n",
      "batch_normalization_1 (Batch (None, 3750)              15000     \n",
      "_________________________________________________________________\n",
      "reshape_1 (Reshape)          (None, 15, 250)           0         \n",
      "_________________________________________________________________\n",
      "dropout_1 (Dropout)          (None, 15, 250)           0         \n",
      "_________________________________________________________________\n",
      "up_sampling1d_1 (UpSampling1 (None, 30, 250)           0         \n",
      "_________________________________________________________________\n",
      "conv1d_1 (Conv1D)            (None, 30, 125)           343875    \n",
      "_________________________________________________________________\n",
      "batch_normalization_2 (Batch (None, 30, 125)           500       \n",
      "_________________________________________________________________\n",
      "dropout_2 (Dropout)          (None, 30, 125)           0         \n",
      "_________________________________________________________________\n",
      "up_sampling1d_2 (UpSampling1 (None, 60, 125)           0         \n",
      "_________________________________________________________________\n",
      "conv1d_2 (Conv1D)            (None, 60, 62)            85312     \n",
      "_________________________________________________________________\n",
      "batch_normalization_3 (Batch (None, 60, 62)            248       \n",
      "_________________________________________________________________\n",
      "dropout_3 (Dropout)          (None, 60, 62)            0         \n",
      "_________________________________________________________________\n",
      "up_sampling1d_3 (UpSampling1 (None, 120, 62)           0         \n",
      "_________________________________________________________________\n",
      "conv1d_3 (Conv1D)            (None, 120, 31)           21173     \n",
      "_________________________________________________________________\n",
      "batch_normalization_4 (Batch (None, 120, 31)           124       \n",
      "_________________________________________________________________\n",
      "dropout_4 (Dropout)          (None, 120, 31)           0         \n",
      "_________________________________________________________________\n",
      "up_sampling1d_4 (UpSampling1 (None, 240, 31)           0         \n",
      "_________________________________________________________________\n",
      "conv1d_4 (Conv1D)            (None, 240, 15)           5130      \n",
      "_________________________________________________________________\n",
      "batch_normalization_5 (Batch (None, 240, 15)           60        \n",
      "_________________________________________________________________\n",
      "dropout_5 (Dropout)          (None, 240, 15)           0         \n",
      "_________________________________________________________________\n",
      "conv1d_5 (Conv1D)            (None, 240, 1)            166       \n",
      "_________________________________________________________________\n",
      "activation_1 (Activation)    (None, 240, 1)            0         \n",
      "=================================================================\n",
      "Total params: 662,838\n",
      "Trainable params: 654,872\n",
      "Non-trainable params: 7,966\n",
      "_________________________________________________________________\n"
     ]
    }
   ],
   "source": [
    "'Define the GAN Model used in the experiments'\n",
    "obj = GANModel_1d(img_rows=240, dropout=0.0, genFilters=250, disFilters=20, filterSize=11)\n",
    "gen1 = obj.genModel_CV_L6s2()\n",
    "gen1.load_weights('/Volume2/arunFiles/pythonCodeFiles/CRISM_repLearning/modelsOnYukiModel_cR_wGAN/Models/Model-4_small/generator/gen_cR_75.h5')\n",
    "gen1.summary()"
   ]
  },
  {
   "cell_type": "code",
   "execution_count": 3,
   "metadata": {},
   "outputs": [
    {
     "name": "stdout",
     "output_type": "stream",
     "text": [
      "_________________________________________________________________\n",
      "Layer (type)                 Output Shape              Param #   \n",
      "=================================================================\n",
      "conv1d_6 (Conv1D)            (None, 120, 20)           240       \n",
      "_________________________________________________________________\n",
      "dropout_6 (Dropout)          (None, 120, 20)           0         \n",
      "_________________________________________________________________\n",
      "conv1d_7 (Conv1D)            (None, 60, 40)            8840      \n",
      "_________________________________________________________________\n",
      "dropout_7 (Dropout)          (None, 60, 40)            0         \n",
      "_________________________________________________________________\n",
      "conv1d_8 (Conv1D)            (None, 30, 80)            35280     \n",
      "_________________________________________________________________\n",
      "dropout_8 (Dropout)          (None, 30, 80)            0         \n",
      "_________________________________________________________________\n",
      "conv1d_9 (Conv1D)            (None, 15, 160)           140960    \n",
      "_________________________________________________________________\n",
      "dropout_9 (Dropout)          (None, 15, 160)           0         \n",
      "_________________________________________________________________\n",
      "flatten_1 (Flatten)          (None, 2400)              0         \n",
      "_________________________________________________________________\n",
      "dense_2 (Dense)              (None, 1)                 2401      \n",
      "_________________________________________________________________\n",
      "activation_2 (Activation)    (None, 1)                 0         \n",
      "=================================================================\n",
      "Total params: 187,721\n",
      "Trainable params: 187,721\n",
      "Non-trainable params: 0\n",
      "_________________________________________________________________\n"
     ]
    }
   ],
   "source": [
    "'Define the GAN Model used in the experiments'\n",
    "dis1 = obj.disModel_CV_L6s2()\n",
    "dis1.load_weights('/Volume2/arunFiles/pythonCodeFiles/CRISM_repLearning/modelsOnYukiModel_cR_wGAN/Models/Model-4_small/discriminator/dis_cR_75.h5')\n",
    "dis1.summary()"
   ]
  },
  {
   "cell_type": "code",
   "execution_count": 4,
   "metadata": {},
   "outputs": [],
   "source": [
    "model_l2 = Sequential()\n",
    "'Layer-1'\n",
    "'In: 240 X 1, depth =1'\n",
    "'Out:120 X 1, depth =25'\n",
    "model_l2.add(Conv1D(filters=20, kernel_size=11, strides=2, input_shape=(240,1),\n",
    "                   weights=dis1.layers[0].get_weights(), padding='same', activation='relu'))\n",
    "#model_l2.add(Dropout(0.5))\n",
    "'Layer-2'\n",
    "'In: 120 X 1, depth =25'\n",
    "'Out: 60 X 1, depth =50'\n",
    "model_l2.add(Conv1D(filters=40, kernel_size=11, strides=2, \n",
    "                   weights=dis1.layers[2].get_weights(), padding='same', activation='relu'))\n",
    "\n",
    "'Layer-3'\n",
    "'In: 60 X 1, depth =50'\n",
    "'Out: 30 X 1, depth =100'\n",
    "model_l2.add(Conv1D(filters=80, kernel_size=11, strides=2, \n",
    "                   weights=dis1.layers[4].get_weights(), padding='same', activation='relu'))\n",
    "\n",
    "'Layer-4'\n",
    "'In: 30 X 1, depth =100'\n",
    "'Out: 15 X 1, depth =200'\n",
    "model_l2.add(Conv1D(filters=160, kernel_size=11, strides=2, \n",
    "                   weights=dis1.layers[6].get_weights(), padding='same', activation='relu'))\n",
    "model_l2.add(Flatten())\n",
    "model_l2.compile(loss='binary_crossentropy', optimizer=Adam())"
   ]
  },
  {
   "cell_type": "code",
   "execution_count": 5,
   "metadata": {},
   "outputs": [
    {
     "name": "stdout",
     "output_type": "stream",
     "text": [
      "(500000, 240)\n"
     ]
    }
   ],
   "source": [
    "'Generate spectra from the generator'\n",
    "try_input = np.random.rand(500000, 50)\n",
    "genSpectra = np.squeeze(gen1.predict(try_input))\n",
    "print genSpectra.shape"
   ]
  },
  {
   "cell_type": "code",
   "execution_count": 6,
   "metadata": {},
   "outputs": [],
   "source": [
    "'Get the Discriminator features for the generated spectra'\n",
    "genSpectra = genSpectra.reshape(genSpectra.shape[0], genSpectra.shape[1],1)\n",
    "\n",
    "'Predict activations on validation set'\n",
    "genSpectra_Preds = model_l2.predict(genSpectra)"
   ]
  },
  {
   "cell_type": "code",
   "execution_count": 7,
   "metadata": {},
   "outputs": [
    {
     "name": "stdout",
     "output_type": "stream",
     "text": [
      "(5, 2400)\n"
     ]
    }
   ],
   "source": [
    "'Extracting CR MICA Spectrum'\n",
    "crsliName = '/Volume1/data/CRISM/AMS/sabcondv3_old//mica5EM_CR.sli'\n",
    "crsliHdrName = '/Volume1/data/CRISM/AMS/sabcondv3_old//mica5EM_CR.sli.hdr'\n",
    "\n",
    "'Read in the spectra'\n",
    "crmicaSLI = envi.open(crsliHdrName, crsliName)\n",
    "crmica_data = crmicaSLI.spectra\n",
    "crmica_data = crmica_data[:,4:244]\n",
    "header = envi.read_envi_header(crsliHdrName)\n",
    "'Extract the wavelength'\n",
    "wvl= header['wavelength']\n",
    "wvl=np.asarray(wvl, dtype='f4')\n",
    "wvl = wvl[4:244]\n",
    "\n",
    "\n",
    "'Reshape to pass on to discriminator'\n",
    "crmica_data = crmica_data.reshape(crmica_data.shape[0], crmica_data.shape[1],1)\n",
    "'Get the predictions at output layer'\n",
    "mica_dataPreds_l2 = model_l2.predict(crmica_data)\n",
    "print mica_dataPreds_l2.shape"
   ]
  },
  {
   "cell_type": "code",
   "execution_count": 31,
   "metadata": {},
   "outputs": [
    {
     "name": "stderr",
     "output_type": "stream",
     "text": [
      "/usr/local/lib/python2.7/dist-packages/sklearn/utils/validation.py:395: DeprecationWarning: Passing 1d arrays as data is deprecated in 0.17 and will raise ValueError in 0.19. Reshape your data either using X.reshape(-1, 1) if your data has a single feature or X.reshape(1, -1) if it contains a single sample.\n",
      "  DeprecationWarning)\n"
     ]
    }
   ],
   "source": [
    "from  sklearn.metrics.pairwise import cosine_similarity as cdist\n",
    "emNum = 0\n",
    "dist = np.squeeze(cdist(mica_dataPreds_l2[emNum,:], genSpectra_Preds))\n",
    "idxSorted = np.argsort(-dist)"
   ]
  },
  {
   "cell_type": "code",
   "execution_count": 30,
   "metadata": {},
   "outputs": [
    {
     "name": "stdout",
     "output_type": "stream",
     "text": [
      "0.84623516\n"
     ]
    },
    {
     "data": {
      "image/png": "[encoded data removed]",
      "text/plain": [
       "<Figure size 432x288 with 2 Axes>"
      ]
     },
     "metadata": {
      "needs_background": "light"
     },
     "output_type": "display_data"
    }
   ],
   "source": [
    "sNo=1\n",
    "fig1=plt.figure()\n",
    "ax = plt.subplot(1,2,1)\n",
    "plt.plot(wvl, np.squeeze(crmica_data[emNum,:,:]))\n",
    "plt.title('MICA Hematite')\n",
    "\n",
    "temp = np.squeeze(genSpectra[idxSorted[sNo:(sNo+10)],:,:])\n",
    "ax = plt.subplot(1,2,2)\n",
    "plt.plot(wvl, temp.T)\n",
    "plt.title('Choices 1-10 Fe-Smectite')\n",
    "\n",
    "print dist[idxSorted[sNo+10]]"
   ]
  },
  {
   "cell_type": "code",
   "execution_count": null,
   "metadata": {
    "collapsed": true
   },
   "outputs": [],
   "source": []
  }
 ],
 "metadata": {
  "kernelspec": {
   "display_name": "Python 2",
   "language": "python",
   "name": "python2"
  },
  "language_info": {
   "codemirror_mode": {
    "name": "ipython",
    "version": 2
   },
   "file_extension": ".py",
   "mimetype": "text/x-python",
   "name": "python",
   "nbconvert_exporter": "python",
   "pygments_lexer": "ipython2",
   "version": "2.7.12"
  }
 },
 "nbformat": 4,
 "nbformat_minor": 2
}
