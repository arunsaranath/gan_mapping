{
 "cells": [
  {
   "cell_type": "code",
   "execution_count": null,
   "metadata": {
    "collapsed": true
   },
   "outputs": [],
   "source": [
    "import numpy as np\n",
    "import numba as nb\n",
    "from scipy import interpolate\n",
    "from spectral.io import envi\n",
    "import matplotlib.pyplot as plt"
   ]
  },
  {
   "cell_type": "code",
   "execution_count": null,
   "metadata": {
    "collapsed": true
   },
   "outputs": [],
   "source": [
    "def convex_hull(wvl, spectrum):\n",
    "    \"\"\"Computes the convex hull of a set of 2D points.\n",
    "\n",
    "    Input: an iterable sequence of (x, y) pairs representing the points.\n",
    "    Output: a list of vertices of the convex hull in counter-clockwise order,\n",
    "      starting from the vertex with the lexicographically smallest coordinates.\n",
    "    Implements the algorithm CONVEXHULL(P) described by  Mark de Berg, Otfried\n",
    "    Cheong, Marc van Kreveld, and Mark Overmars, in Computational Geometry:\n",
    "    Algorithm and Applications, pp. 6-7 in Chapter 1\n",
    "\n",
    "    :param points: A N X 2 matrix with the wavelengths as the first column\n",
    "    :return: The convex hull vector\n",
    "    \"\"\"\n",
    "    'The starting points be the first two points'\n",
    "    xcnt, y = wvl[:2], spectrum[:2]\n",
    "    'Now iterate over the other points'\n",
    "    for ii in range(2, spectrum.shape[0], 1):\n",
    "        'check next prospective convex hull members'\n",
    "        xcnt = np.append(xcnt, wvl[ii])\n",
    "        y = np.append(y, spectrum[ii])\n",
    "        flag = True\n",
    "\n",
    "        while (flag == True):\n",
    "            'Check if a left turn occurs at the central member'\n",
    "            a1 = (y[-2] - y[-3]) / (xcnt[-2] - xcnt[-3])\n",
    "            a2 = (y[-1] - y[-2]) / (xcnt[-1] - xcnt[-2])\n",
    "            if (a2 > a1):\n",
    "                xcnt[-2] = xcnt[-1]\n",
    "                xcnt = xcnt[:-1]\n",
    "                y[-2] = y[-1]\n",
    "                y = y[:-1]\n",
    "                flag = (xcnt.shape[0] > 2);\n",
    "            else:\n",
    "                flag = False\n",
    "\n",
    "    return np.vstack((xcnt, y))"
   ]
  },
  {
   "cell_type": "code",
   "execution_count": null,
   "metadata": {
    "collapsed": true
   },
   "outputs": [],
   "source": [
    "@nb.jit(\"f4[:, :](f4[:], f4[:])\")\n",
    "def convex_hull_jit(wvl, spectrum):\n",
    "    \"\"\"Computes the convex hull of a set of 2D points.\n",
    "\n",
    "    Input: an iterable sequence of (x, y) pairs representing the points.\n",
    "    Output: a list of vertices of the convex hull in counter-clockwise order,\n",
    "      starting from the vertex with the lexicographically smallest coordinates.\n",
    "    Implements the algorithm CONVEXHULL(P) described by  Mark de Berg, Otfried\n",
    "    Cheong, Marc van Kreveld, and Mark Overmars, in Computational Geometry:\n",
    "    Algorithm and Applications, pp. 6-7 in Chapter 1\n",
    "\n",
    "    :param points: A N X 2 matrix with the wavelengths as the first column\n",
    "    :return: The convex hull vector\n",
    "    \"\"\"\n",
    "    'The starting points be the first two points'\n",
    "    xcnt, y = wvl[:2], spectrum[:2]\n",
    "    'Now iterate over the other points'\n",
    "    for ii in range(2, spectrum.shape[0], 1):\n",
    "        'check next prospective convex hull members'\n",
    "        xcnt = np.append(xcnt, wvl[ii])\n",
    "        y = np.append(y, spectrum[ii])\n",
    "        flag = True\n",
    "\n",
    "        while (flag == True):\n",
    "            'Check if a left turn occurs at the central member'\n",
    "            a1 = (y[-2] - y[-3]) / (xcnt[-2] - xcnt[-3])\n",
    "            a2 = (y[-1] - y[-2]) / (xcnt[-1] - xcnt[-2])\n",
    "            if (a2 > a1):\n",
    "                xcnt[-2] = xcnt[-1]\n",
    "                xcnt = xcnt[:-1]\n",
    "                y[-2] = y[-1]\n",
    "                y = y[:-1]\n",
    "                flag = (xcnt.shape[0] > 2);\n",
    "            else:\n",
    "                flag = False\n",
    "\n",
    "    return np.vstack((xcnt, y))"
   ]
  },
  {
   "cell_type": "code",
   "execution_count": null,
   "metadata": {},
   "outputs": [],
   "source": [
    "'Get an image'\n",
    "imgName = '/Volume2/data/CRISM/AMS/packageTrail/FRT00003E12/FRT00003E12_07_IF166L_TRR3_atcr_sabcondv3_1_Lib1112_1_4_5_redAb_MS.img'\n",
    "imgHdrName = imgName.replace(\".img\", \".hdr\")\n",
    "img = envi.open(imgHdrName, imgName)\n",
    "cube = img.load()\n",
    "[rows, cols, bands] = img.shape\n",
    "cube = img.load()\n",
    "cube = np.asarray(cube[:,:,4:244], dtype=\"f4\")"
   ]
  },
  {
   "cell_type": "code",
   "execution_count": null,
   "metadata": {
    "collapsed": true
   },
   "outputs": [],
   "source": [
    "header = envi.read_envi_header(imgHdrName)\n",
    "wvl = header['wavelength']\n",
    "wvl = wvl[4:244]\n",
    "wvl = np.asarray(wvl, dtype='single')"
   ]
  },
  {
   "cell_type": "code",
   "execution_count": null,
   "metadata": {
    "collapsed": true
   },
   "outputs": [],
   "source": [
    "row = 309\n",
    "col = 258\n",
    "spectrum = np.squeeze(cube[row, col, :])"
   ]
  },
  {
   "cell_type": "code",
   "execution_count": null,
   "metadata": {},
   "outputs": [],
   "source": [
    "plt.figure()\n",
    "plt.plot(wvl, spectrum)"
   ]
  },
  {
   "cell_type": "code",
   "execution_count": null,
   "metadata": {},
   "outputs": [],
   "source": [
    "%time t1 = convex_hull(wvl, spectrum)\n",
    "t1 = convex_hull(wvl, spectrum)"
   ]
  },
  {
   "cell_type": "code",
   "execution_count": null,
   "metadata": {},
   "outputs": [],
   "source": [
    "%time t2 = convex_hull_jit(wvl, spectrum)\n",
    "t2 = convex_hull_jit(wvl, spectrum)"
   ]
  },
  {
   "cell_type": "code",
   "execution_count": null,
   "metadata": {},
   "outputs": [],
   "source": [
    "print t1"
   ]
  },
  {
   "cell_type": "code",
   "execution_count": null,
   "metadata": {},
   "outputs": [],
   "source": [
    "print t2.shape"
   ]
  },
  {
   "cell_type": "code",
   "execution_count": null,
   "metadata": {},
   "outputs": [],
   "source": [
    "f = interpolate.interp1d(np.squeeze(t1[0,:]), np.squeeze(t1[1,:]))\n",
    "ycnt = f(wvl)\n",
    "\n",
    "plt.figure()\n",
    "plt.plot(wvl, spectrum, 'b-')\n",
    "plt.plot(wvl, ycnt, 'g--')"
   ]
  },
  {
   "cell_type": "code",
   "execution_count": null,
   "metadata": {},
   "outputs": [],
   "source": [
    "%time f = interpolate.interp1d(np.squeeze(t1[0,:]), np.squeeze(t1[1,:]))\n",
    "%time ycnt = f(wvl)"
   ]
  },
  {
   "cell_type": "code",
   "execution_count": null,
   "metadata": {},
   "outputs": [],
   "source": [
    "4.81*100"
   ]
  },
  {
   "cell_type": "code",
   "execution_count": null,
   "metadata": {},
   "outputs": [],
   "source": [
    "0.391*1000"
   ]
  },
  {
   "cell_type": "code",
   "execution_count": null,
   "metadata": {},
   "outputs": [],
   "source": [
    "0.0725*10000"
   ]
  },
  {
   "cell_type": "code",
   "execution_count": null,
   "metadata": {},
   "outputs": [],
   "source": [
    "((11.5*1000) + 482 +365)/(542+482+365)"
   ]
  },
  {
   "cell_type": "code",
   "execution_count": null,
   "metadata": {
    "collapsed": true
   },
   "outputs": [],
   "source": [
    "class c1():\n",
    "    def f1(self, wvl, spectrum):\n",
    "        t3 = convex_hull_jit(wvl, spectrum)\n",
    "        return t3\n",
    "    "
   ]
  },
  {
   "cell_type": "code",
   "execution_count": null,
   "metadata": {},
   "outputs": [],
   "source": [
    "obj = c1()\n",
    "%time t3 = obj.f1(wvl,spectrum)"
   ]
  },
  {
   "cell_type": "code",
   "execution_count": null,
   "metadata": {
    "collapsed": true
   },
   "outputs": [],
   "source": []
  }
 ],
 "metadata": {
  "kernelspec": {
   "display_name": "Python 2",
   "language": "python",
   "name": "python2"
  },
  "language_info": {
   "codemirror_mode": {
    "name": "ipython",
    "version": 2
   },
   "file_extension": ".py",
   "mimetype": "text/x-python",
   "name": "python",
   "nbconvert_exporter": "python",
   "pygments_lexer": "ipython2",
   "version": "2.7.12"
  }
 },
 "nbformat": 4,
 "nbformat_minor": 2
}
