{
 "cells": [
  {
   "cell_type": "code",
   "execution_count": 1,
   "metadata": {
    "collapsed": true
   },
   "outputs": [],
   "source": [
    "import os\n",
    "import numpy as np\n",
    "from spectral.io import envi\n",
    "import pandas as pd\n",
    "\n",
    "%matplotlib inline"
   ]
  },
  {
   "cell_type": "code",
   "execution_count": 2,
   "metadata": {
    "collapsed": true
   },
   "outputs": [],
   "source": [
    "df_noise_vectors = pd.DataFrame()"
   ]
  },
  {
   "cell_type": "code",
   "execution_count": 3,
   "metadata": {},
   "outputs": [
    {
     "name": "stdout",
     "output_type": "stream",
     "text": [
      "/Volume1/data/CRISM/yuki/v5/FRT000047A3/FRT000047A3_07_IF166L_TRRD_sabcondpub_v1_trrd_cor_cbc11_nIter2_tu2_ltn0_ltnl035_nr_ds.img\n"
     ]
    },
    {
     "name": "stderr",
     "output_type": "stream",
     "text": [
      "/usr/local/lib/python2.7/dist-packages/spectral/io/spyfile.py:252: NaNValueWarning: Image data contains NaN values.\n",
      "  warnings.warn('Image data contains NaN values.', NaNValueWarning)\n"
     ]
    },
    {
     "name": "stdout",
     "output_type": "stream",
     "text": [
      "/Volume1/data/CRISM/yuki/v5/HRL000040FF/HRL000040FF_07_IF183L_TRRD_sabcondpub_v1_lam2_cbc11_40A2_tu2_nr_ds.img\n",
      "/Volume1/data/CRISM/yuki/v5/FRT00005C5E/FRT00005C5E_07_IF166L_TRRD_sabcondpub_v1_trrd_cor_cbc11_nIter2_tu2_ltn0_ltnl035_nr_ds.img\n",
      "/Volume1/data/CRISM/yuki/v5/FRT0001FB74/FRT0001FB74_07_IF166L_TRRD_sabcondpub_v1_trrd_cor_cbc11_nIter2_tu2_ltn0_ltnl035_nr_ds.img\n",
      "/Volume1/data/CRISM/yuki/v5/FRT00009786/FRT00009786_07_IF165L_TRRD_sabcondpub_v1_trrd_cor_cbc11_nIter2_tu2_ltn0_ltnl035_nr_ds.img\n",
      "/Volume1/data/CRISM/yuki/v5/FRS00031442/FRS00031442_01_IF168L_TRRD_sabcondpub_v1_trrd_cor_cbc11_nIter2_tu2_ltn0_ltnl035_nr_ds.img\n"
     ]
    }
   ],
   "source": [
    "srcFolder = '/Volume1/data/CRISM/yuki/v5/'\n",
    "for r, d, f in os.walk(srcFolder):\n",
    "    for file in f:\n",
    "        if file.find('_nr_ds.img') != -1:\n",
    "            'The image name is'\n",
    "            imgName = os.path.join(r, file)\n",
    "            print imgName\n",
    "            hdrName = imgName.replace('.img', '.hdr')\n",
    "            img = envi.open(hdrName, imgName)\n",
    "            img = img.load()\n",
    "            img = img[:, :, 4:244]\n",
    "            [rows, cols, bands] = img.shape\n",
    "            \n",
    "            'The background image is'\n",
    "            bgImgName = imgName.replace('_nr_ds', '_Bg_ds')\n",
    "            bgHdrName = bgImgName.replace('.img', '.hdr')\n",
    "            bgImg = envi.open(bgHdrName, bgImgName)\n",
    "            bgImg = bgImg.load()\n",
    "            bgImg = bgImg[:, :, 4:244]\n",
    "            \n",
    "            'The absorption image is'\n",
    "            abImgName = imgName.replace('_nr_ds', '_AB_ds')\n",
    "            abHdrName = abImgName.replace('.img', '.hdr')\n",
    "            abImg = envi.open(abHdrName, abImgName)\n",
    "            abImg = abImg.load()\n",
    "            abImg = abImg[:, :, 4:244]\n",
    "            \n",
    "            'The residual image is'\n",
    "            resImg = img - (abImg * bgImg)\n",
    "            \n",
    "            'convert it to a 2D array'\n",
    "            resArr = resImg.reshape((rows*cols, bands))\n",
    "            'make it a pandas array'\n",
    "            resArr = pd.DataFrame(resArr)\n",
    "            resArr = resArr.dropna()\n",
    "            \n",
    "            'Append it to larger datafrane'\n",
    "            df_noise_vectors = df_noise_vectors.append(resArr)"
   ]
  },
  {
   "cell_type": "code",
   "execution_count": 4,
   "metadata": {},
   "outputs": [
    {
     "name": "stdout",
     "output_type": "stream",
     "text": [
      "(1398384, 240)\n"
     ]
    }
   ],
   "source": [
    "print df_noise_vectors.shape\n",
    "store = pd.HDFStore('/Volume2/arunFiles/python_HSITools/crismBalancingDatasets/dataProducts/store_residualVectors.h5')\n",
    "store.put('IF_residuals', df_noise_vectors, format='t', append=False)\n",
    "store.close()"
   ]
  },
  {
   "cell_type": "code",
   "execution_count": null,
   "metadata": {
    "collapsed": true
   },
   "outputs": [],
   "source": []
  }
 ],
 "metadata": {
  "kernelspec": {
   "display_name": "Python 2",
   "language": "python",
   "name": "python2"
  },
  "language_info": {
   "codemirror_mode": {
    "name": "ipython",
    "version": 2
   },
   "file_extension": ".py",
   "mimetype": "text/x-python",
   "name": "python",
   "nbconvert_exporter": "python",
   "pygments_lexer": "ipython2",
   "version": "2.7.12"
  }
 },
 "nbformat": 4,
 "nbformat_minor": 2
}
