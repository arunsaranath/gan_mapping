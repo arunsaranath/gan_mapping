{
 "cells": [
  {
   "cell_type": "code",
   "execution_count": 1,
   "metadata": {
    "collapsed": true
   },
   "outputs": [],
   "source": [
    "import numpy as np"
   ]
  },
  {
   "cell_type": "code",
   "execution_count": 2,
   "metadata": {},
   "outputs": [
    {
     "name": "stdout",
     "output_type": "stream",
     "text": [
      "[[11 18  1 10]\n",
      " [ 1 18 11  5]\n",
      " [ 0 18 16  0]\n",
      " [12 10 16 19]]\n"
     ]
    }
   ],
   "source": [
    "t1 = np.arange(16)\n",
    "t1 = np.random.randint(20, size=(4,4))\n",
    "print t1"
   ]
  },
  {
   "cell_type": "code",
   "execution_count": 3,
   "metadata": {},
   "outputs": [
    {
     "name": "stdout",
     "output_type": "stream",
     "text": [
      "[[11 18  0  0]\n",
      " [ 0 18 11  0]\n",
      " [ 0 18 16  0]\n",
      " [ 0  0 16 19]]\n"
     ]
    }
   ],
   "source": [
    "t1 = t1 * (np.argsort(np.argsort(t1)) >= (t1.shape[1]-2))\n",
    "print t1"
   ]
  },
  {
   "cell_type": "code",
   "execution_count": 5,
   "metadata": {},
   "outputs": [
    {
     "name": "stdout",
     "output_type": "stream",
     "text": [
      "CPU times: user 80 µs, sys: 79 µs, total: 159 µs\n",
      "Wall time: 125 µs\n",
      "[14.5 14.5 17.  17.5]\n"
     ]
    }
   ],
   "source": [
    "%time a=np.true_divide(t1.sum(1), (t1!=0).sum(1))\n",
    "print a"
   ]
  },
  {
   "cell_type": "code",
   "execution_count": 11,
   "metadata": {},
   "outputs": [
    {
     "name": "stdout",
     "output_type": "stream",
     "text": [
      "CPU times: user 137 µs, sys: 125 µs, total: 262 µs\n",
      "Wall time: 235 µs\n",
      "[14.5 14.5 17.  17.5]\n"
     ]
    }
   ],
   "source": [
    "%time b= np.nanmean(np.where((t1 == 0), np.nan, t1), axis=1)\n",
    "print b"
   ]
  },
  {
   "cell_type": "code",
   "execution_count": null,
   "metadata": {
    "collapsed": true
   },
   "outputs": [],
   "source": []
  }
 ],
 "metadata": {
  "kernelspec": {
   "display_name": "Python 2",
   "language": "python",
   "name": "python2"
  },
  "language_info": {
   "codemirror_mode": {
    "name": "ipython",
    "version": 2
   },
   "file_extension": ".py",
   "mimetype": "text/x-python",
   "name": "python",
   "nbconvert_exporter": "python",
   "pygments_lexer": "ipython2",
   "version": "2.7.12"
  }
 },
 "nbformat": 4,
 "nbformat_minor": 2
}
