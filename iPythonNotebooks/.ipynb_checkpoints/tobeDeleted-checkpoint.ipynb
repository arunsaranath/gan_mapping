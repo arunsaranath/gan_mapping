{
 "cells": [
  {
   "cell_type": "code",
   "execution_count": 1,
   "metadata": {},
   "outputs": [],
   "source": [
    "'Import Python Libraries'\n",
    "import numpy as np\n",
    "from numpy.matlib import repmat\n",
    "from spectral.io import envi\n",
    "import os\n",
    "from scipy.stats import dirichlet\n",
    "import pandas as pd\n",
    "from tqdm import tqdm\n",
    "import matplotlib.pyplot as plt\n",
    "from scipy.ndimage.filters import convolve1d\n",
    "from scipy.signal import medfilt\n",
    "\n",
    "from generalUtilities import generalUtilities\n",
    "from hsiUtilities import hsiUtilities"
   ]
  },
  {
   "cell_type": "code",
   "execution_count": 2,
   "metadata": {
    "collapsed": true
   },
   "outputs": [],
   "source": [
    "endMemLib='/Volume2/arunFiles/python_HSITools/crismBalancingDatasets/dataProducts/mica_CRendmembers_reduced.sli'\n",
    "endMemHdr = endMemLib.replace('.sli', '.sli.hdr')"
   ]
  },
  {
   "cell_type": "code",
   "execution_count": 3,
   "metadata": {
    "collapsed": true
   },
   "outputs": [],
   "source": [
    "'get the wavelength from the header'\n",
    "hdr = envi.read_envi_header(endMemHdr)\n",
    "if 'wavelength' in hdr:\n",
    "    try:\n",
    "        wavelength = [float(b) for b in hdr['wavelength']]\n",
    "    except:\n",
    "        pass"
   ]
  },
  {
   "cell_type": "code",
   "execution_count": 4,
   "metadata": {
    "collapsed": true
   },
   "outputs": [],
   "source": [
    "'Read the SLI files'\n",
    "micaSLI = envi.open(endMemHdr, endMemLib)\n",
    "mica_data = micaSLI.spectra\n",
    "comica_data = np.zeros((mica_data.shape))\n",
    "'Apply the continuum removal'\n",
    "for ii in range(mica_data.shape[0]):\n",
    "    temp = np.vstack((wavelength, np.squeeze(mica_data[ii, :])))\n",
    "    comica_data[ii, :] = generalUtilities().convex_hull(temp.T)\n",
    "\n",
    "'Ratio to get the continuum removed'\n",
    "crmica_data = mica_data / comica_data\n",
    "crmica_data = hsiUtilities().scaleSpectra(crmica_data, scaleMin=0.2)"
   ]
  },
  {
   "cell_type": "code",
   "execution_count": 11,
   "metadata": {
    "collapsed": true
   },
   "outputs": [],
   "source": [
    "'Apply spectral smoothing'\n",
    "crmicaSm_data = np.zeros((crmica_data.shape))\n",
    "b = np.array([1.,1.,1.,1.,1.])\n",
    "for ii in range(20):\n",
    "    crmicaSm_data[ii, :] = convolve1d(np.squeeze(crmica_data[ii, :]), b/b.sum())"
   ]
  },
  {
   "cell_type": "code",
   "execution_count": 35,
   "metadata": {},
   "outputs": [
    {
     "data": {
      "text/plain": [
       "[<matplotlib.lines.Line2D at 0x7fd0ea751690>]"
      ]
     },
     "execution_count": 35,
     "metadata": {},
     "output_type": "execute_result"
    },
    {
     "data": {
      "image/png": "[encoded data removed]",
      "text/plain": [
       "<Figure size 432x288 with 1 Axes>"
      ]
     },
     "metadata": {
      "needs_background": "light"
     },
     "output_type": "display_data"
    }
   ],
   "source": [
    "idx= 1\n",
    "fig1 = plt.figure()\n",
    "#plt.plot(wavelength, crmica_data[idx,:])\n",
    "plt.plot(wavelength, crmicaSm_data[idx, :])"
   ]
  },
  {
   "cell_type": "code",
   "execution_count": null,
   "metadata": {
    "collapsed": true
   },
   "outputs": [],
   "source": []
  },
  {
   "cell_type": "code",
   "execution_count": null,
   "metadata": {
    "collapsed": true
   },
   "outputs": [],
   "source": []
  }
 ],
 "metadata": {
  "kernelspec": {
   "display_name": "Python 2",
   "language": "python",
   "name": "python2"
  },
  "language_info": {
   "codemirror_mode": {
    "name": "ipython",
    "version": 2
   },
   "file_extension": ".py",
   "mimetype": "text/x-python",
   "name": "python",
   "nbconvert_exporter": "python",
   "pygments_lexer": "ipython2",
   "version": "2.7.12"
  }
 },
 "nbformat": 4,
 "nbformat_minor": 2
}
