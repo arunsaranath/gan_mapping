{
 "cells": [
  {
   "cell_type": "code",
   "execution_count": 1,
   "metadata": {
    "collapsed": true
   },
   "outputs": [],
   "source": [
    "import numpy as np\n",
    "import matplotlib.pyplot as plt\n",
    "import matplotlib.tri as tri\n",
    "\n",
    "import spectral.io.envi as envi\n",
    "from spectral.io.envi import SpectralLibrary as sli\n"
   ]
  },
  {
   "cell_type": "code",
   "execution_count": 2,
   "metadata": {},
   "outputs": [
    {
     "name": "stdout",
     "output_type": "stream",
     "text": [
      "(687, 240)\n"
     ]
    }
   ],
   "source": [
    "'Load the .npy file with the library spectra'\n",
    "spectraLib = np.load('/Volume2/arunFiles/python_HSITools/crismBalancingDatasets/dataProducts/spectraLib.npy')\n",
    "wvl = np.load('/Volume2/arunFiles/python_HSITools/crismBalancingDatasets/dataProducts/wavelength.npy')\n",
    "print spectraLib.shape"
   ]
  },
  {
   "cell_type": "code",
   "execution_count": null,
   "metadata": {
    "collapsed": true
   },
   "outputs": [],
   "source": [
    "fig1 = plt.figure()\n",
    "plt.plot(np.squeeze(spectraLib[656, :]))"
   ]
  },
  {
   "cell_type": "code",
   "execution_count": null,
   "metadata": {
    "collapsed": true
   },
   "outputs": [],
   "source": [
    "'Get the abundance vectors associated with the chosen MICA endmembers'\n",
    "sliName = '/Volume2/arunFiles/python_HSITools/crismBalancingDatasets/dataProducts/micaEMAbundance_reduced.sli'\n",
    "hdrName = sliName.replace('.sli', '.sli.hdr')"
   ]
  },
  {
   "cell_type": "code",
   "execution_count": null,
   "metadata": {
    "collapsed": true
   },
   "outputs": [],
   "source": [
    "crmicaSLI = envi.open(hdrName, sliName)\n",
    "crmica_data = crmicaSLI.spectra"
   ]
  },
  {
   "cell_type": "code",
   "execution_count": null,
   "metadata": {
    "collapsed": true
   },
   "outputs": [],
   "source": [
    "plt.plot(range(687), crmica_data[0,:])"
   ]
  },
  {
   "cell_type": "code",
   "execution_count": null,
   "metadata": {
    "collapsed": true
   },
   "outputs": [],
   "source": [
    "idx = 8\n",
    "mu=np.squeeze(crmica_data[idx, :])\n",
    "sigma = (0.001*np.identity(687))\n",
    "s = np.abs(np.random.multivariate_normal(mu, sigma,10))\n",
    "#s[s<= 0.01] = 0\n",
    "#tempSpectra = np.matmul(np.squeeze(crmica_data[idx, :]), spectraLib)\n",
    "tempSpectra = np.matmul(s, spectraLib)\n",
    "\n",
    "fig2 = plt.figure()\n",
    "plt.plot(wvl, tempSpectra.T)"
   ]
  },
  {
   "cell_type": "code",
   "execution_count": null,
   "metadata": {
    "collapsed": true
   },
   "outputs": [],
   "source": [
    "fig3 = plt.figure()\n",
    "plt.plot(range(687), mu, s[3, :])"
   ]
  },
  {
   "cell_type": "markdown",
   "metadata": {},
   "source": [
    "# Dirichlet Distribution\n",
    "In this portion we will look at  a dirichlet distribution which is weighted towards the corners"
   ]
  },
  {
   "cell_type": "code",
   "execution_count": 3,
   "metadata": {
    "collapsed": true
   },
   "outputs": [],
   "source": [
    "corners = np.array([[0, 0], [1, 0], [0.5, 0.75**0.5]])\n",
    "triangle = tri.Triangulation(corners[:, 0], corners[:, 1])"
   ]
  },
  {
   "cell_type": "code",
   "execution_count": 4,
   "metadata": {
    "collapsed": true
   },
   "outputs": [],
   "source": [
    "midpoints = [(corners[(i + 1) % 3] + corners[(i+2) % 3]) / 2. for i in range(3)]\n",
    "\n",
    "def xy2bc(xy, tol=1.e-3):\n",
    "    s  = [(corners[i] - midpoints[i]).dot(xy - midpoints[i]) / 0.75 for i in range(3)]\n",
    "    return np.clip(s, tol, 1- tol)"
   ]
  },
  {
   "cell_type": "code",
   "execution_count": 13,
   "metadata": {
    "collapsed": true
   },
   "outputs": [],
   "source": [
    "class Dirichlet(object):\n",
    "    def __init__(self, alpha):\n",
    "        from math import gamma\n",
    "        from operator import mul\n",
    "        self._alpha = np.array(alpha)\n",
    "        self._coef = gamma(np.sum(self._alpha)) / reduce(mul, [gamma(a) for a in self._alpha])\n",
    "        \n",
    "    def pdf(self, x):\n",
    "        '''Returns pdf value for x.'''\n",
    "        from operator import mul\n",
    "        return self._coef * reduce(mul, [xx ** (aa-1) \n",
    "                                        for (xx, aa) in zip(x, self._alpha)])\n",
    "    \n",
    "    def rCoef(self):\n",
    "        return self._coef"
   ]
  },
  {
   "cell_type": "code",
   "execution_count": 6,
   "metadata": {
    "collapsed": true
   },
   "outputs": [],
   "source": [
    "def draw_pdf_contours(dist, nlevels=200, subdiv=8, **kwargs):\n",
    "    import math\n",
    "    \n",
    "    refiner = tri.UniformTriRefiner(triangle)\n",
    "    trimesh = refiner.refine_triangulation(subdiv=subdiv)\n",
    "    pvals = [dist.pdf(xy2bc(xy)) for xy in zip(trimesh.x, trimesh.y)]\n",
    "    \n",
    "    plt.tricontourf(trimesh, pvals, nlevels, **kwargs)\n",
    "    plt.axis('equal')\n",
    "    plt.xlim(0, 1)\n",
    "    plt.ylim(0, 0.75**0.5)\n",
    "    plt.axis('off')"
   ]
  },
  {
   "cell_type": "code",
   "execution_count": 10,
   "metadata": {},
   "outputs": [
    {
     "data": {
      "image/png": "[encoded data removed]",
      "text/plain": [
       "<Figure size 432x288 with 1 Axes>"
      ]
     },
     "metadata": {
      "needs_background": "light"
     },
     "output_type": "display_data"
    }
   ],
   "source": [
    "draw_pdf_contours(Dirichlet([3,1,1]))"
   ]
  },
  {
   "cell_type": "code",
   "execution_count": 14,
   "metadata": {},
   "outputs": [
    {
     "data": {
      "text/plain": [
       "12.0"
      ]
     },
     "execution_count": 14,
     "metadata": {},
     "output_type": "execute_result"
    }
   ],
   "source": [
    "Dirichlet([3,1,1]).rCoef()"
   ]
  },
  {
   "cell_type": "code",
   "execution_count": 17,
   "metadata": {},
   "outputs": [
    {
     "data": {
      "text/plain": [
       "24.0"
      ]
     },
     "execution_count": 17,
     "metadata": {},
     "output_type": "execute_result"
    }
   ],
   "source": [
    "from math import gamma\n",
    "gamma(np.sum([3,1,1]))"
   ]
  },
  {
   "cell_type": "code",
   "execution_count": 20,
   "metadata": {},
   "outputs": [
    {
     "name": "stdout",
     "output_type": "stream",
     "text": [
      "2.0\n"
     ]
    }
   ],
   "source": [
    "from operator import mul\n",
    "print reduce(mul, [gamma(a) for a in [3,1,1]])"
   ]
  },
  {
   "cell_type": "code",
   "execution_count": 21,
   "metadata": {},
   "outputs": [
    {
     "data": {
      "text/plain": [
       "[2.0, 1.0, 1.0]"
      ]
     },
     "execution_count": 21,
     "metadata": {},
     "output_type": "execute_result"
    }
   ],
   "source": [
    "[gamma(a) for a in [3,1,1]]"
   ]
  },
  {
   "cell_type": "code",
   "execution_count": 22,
   "metadata": {
    "collapsed": true
   },
   "outputs": [],
   "source": [
    "from scipy.stats import dirichlet"
   ]
  },
  {
   "cell_type": "code",
   "execution_count": 443,
   "metadata": {},
   "outputs": [
    {
     "name": "stdout",
     "output_type": "stream",
     "text": [
      "0.8276482673065507\n",
      "0.0\n"
     ]
    }
   ],
   "source": [
    "idx=5\n",
    "#alpha = 1.5*np.ones(20)\n",
    "#alpha[idx] = 150.\n",
    "s = np.abs(np.random.normal(1,0.001,5))\n",
    "s[0] =25\n",
    "t1 = dirichlet.rvs(s, size=1)\n",
    "#print t1\n",
    "print (np.mean(t1[:,0]))\n",
    "print (np.std(t1[:,0]))"
   ]
  },
  {
   "cell_type": "code",
   "execution_count": 444,
   "metadata": {},
   "outputs": [
    {
     "data": {
      "text/plain": [
       "(array([0., 0., 0., 0., 0., 1., 0., 0., 0., 0.]),\n",
       " array([0.32764827, 0.42764827, 0.52764827, 0.62764827, 0.72764827,\n",
       "        0.82764827, 0.92764827, 1.02764827, 1.12764827, 1.22764827,\n",
       "        1.32764827]),\n",
       " <a list of 10 Patch objects>)"
      ]
     },
     "execution_count": 444,
     "metadata": {},
     "output_type": "execute_result"
    },
    {
     "data": {
      "image/png": "[encoded data removed]",
      "text/plain": [
       "<Figure size 432x288 with 1 Axes>"
      ]
     },
     "metadata": {
      "needs_background": "light"
     },
     "output_type": "display_data"
    }
   ],
   "source": [
    "fig1 = plt.figure()\n",
    "plt.hist(t1[:,0])"
   ]
  },
  {
   "cell_type": "code",
   "execution_count": 419,
   "metadata": {},
   "outputs": [
    {
     "name": "stdout",
     "output_type": "stream",
     "text": [
      "[1, 2, 3, 4, 5, 6, 7, 8, 9, 10, 11, 12, 13, 14, 15, 16, 17, 18, 19]\n"
     ]
    }
   ],
   "source": [
    "listEM = list(xrange(0,20))\n",
    "listEM.remove(idx)\n",
    "print listEM"
   ]
  },
  {
   "cell_type": "code",
   "execution_count": 445,
   "metadata": {},
   "outputs": [
    {
     "data": {
      "text/plain": [
       "[11, 1, 13, 9]"
      ]
     },
     "execution_count": 445,
     "metadata": {},
     "output_type": "execute_result"
    }
   ],
   "source": [
    "import random\n",
    "import itertools\n",
    "random.sample(listEM, 4)"
   ]
  },
  {
   "cell_type": "code",
   "execution_count": 464,
   "metadata": {
    "collapsed": true
   },
   "outputs": [],
   "source": [
    "import itertools\n",
    "def shuffled_SubSet(arr, numCols=''):\n",
    "    'Get size of matrix'\n",
    "    nrows, ncols = arr.shape\n",
    "    'set default to return all columns'\n",
    "    if not numCols:\n",
    "        numCols = ncols\n",
    "    \n",
    "    if numCols >= ncols:\n",
    "        numCols = ncols\n",
    "        \n",
    "    all_perm = np.array((list(itertools.permutations(range(ncols)))))\n",
    "    b = all_perm[np.random.randint(0, all_perm.shape[0], size=nrows)]\n",
    "    arrShuff = (arr.flatten()[(b+3*np.arange(nrows)[...,np.newaxis]).flatten()]).reshape(arr.shape)\n",
    "    return arrShuff[:, :numCols]\n",
    "    "
   ]
  },
  {
   "cell_type": "code",
   "execution_count": 465,
   "metadata": {
    "collapsed": true
   },
   "outputs": [],
   "source": [
    "arra = np.zeros(shape=(10,20))\n",
    "for ii in range(20):\n",
    "    print(ii)\n",
    "    arra[:,ii] = ii+1\n",
    "\n",
    "\n"
   ]
  },
  {
   "cell_type": "code",
   "execution_count": 466,
   "metadata": {},
   "outputs": [
    {
     "name": "stdout",
     "output_type": "stream",
     "text": [
      "[[2. 1.]\n",
      " [3. 1.]\n",
      " [4. 2.]\n",
      " [3. 2.]\n",
      " [4. 3.]\n",
      " [3. 1.]\n",
      " [4. 3.]\n",
      " [4. 1.]\n",
      " [1. 4.]\n",
      " [1. 2.]]\n"
     ]
    }
   ],
   "source": [
    "arra_s = shuffled_SubSet(arra, numCols=2)"
   ]
  },
  {
   "cell_type": "code",
   "execution_count": null,
   "metadata": {
    "collapsed": true
   },
   "outputs": [],
   "source": []
  }
 ],
 "metadata": {
  "kernelspec": {
   "display_name": "Python 2",
   "language": "python",
   "name": "python2"
  },
  "language_info": {
   "codemirror_mode": {
    "name": "ipython",
    "version": 2
   },
   "file_extension": ".py",
   "mimetype": "text/x-python",
   "name": "python",
   "nbconvert_exporter": "python",
   "pygments_lexer": "ipython2",
   "version": "2.7.12"
  }
 },
 "nbformat": 4,
 "nbformat_minor": 2
}
