{
 "cells": [
  {
   "cell_type": "code",
   "execution_count": 1,
   "metadata": {},
   "outputs": [
    {
     "name": "stderr",
     "output_type": "stream",
     "text": [
      "/usr/local/lib/python2.7/dist-packages/h5py/__init__.py:36: FutureWarning: Conversion of the second argument of issubdtype from `float` to `np.floating` is deprecated. In future, it will be treated as `np.float64 == np.dtype(float).type`.\n",
      "  from ._conv import register_converters as _register_converters\n",
      "Using TensorFlow backend.\n",
      "/usr/local/lib/python2.7/dist-packages/requests/__init__.py:83: RequestsDependencyWarning: Old version of cryptography ([1, 2, 3]) may cause slowdown.\n",
      "  warnings.warn(warning, RequestsDependencyWarning)\n"
     ]
    }
   ],
   "source": [
    "'import libraries of interest'\n",
    "from spectral.io import envi\n",
    "import numpy as np\n",
    "import pandas as pd\n",
    "from sklearn.metrics.pairwise import cosine_similarity as cosineDist\n",
    "\n",
    "from ganTraining import GANModel_1d \n",
    "from matplotlib import pyplot as plt\n",
    "\n",
    "%matplotlib notebook"
   ]
  },
  {
   "cell_type": "code",
   "execution_count": 2,
   "metadata": {},
   "outputs": [
    {
     "name": "stdout",
     "output_type": "stream",
     "text": [
      "WARNING:tensorflow:From /usr/local/lib/python2.7/dist-packages/tensorflow/python/util/deprecation.py:497: calling conv1d (from tensorflow.python.ops.nn_ops) with data_format=NHWC is deprecated and will be removed in a future version.\n",
      "Instructions for updating:\n",
      "`NHWC` for data_format is deprecated, use `NWC` instead\n",
      "_________________________________________________________________\n",
      "Layer (type)                 Output Shape              Param #   \n",
      "=================================================================\n",
      "conv1d_5 (Conv1D)            (None, 120, 20)           240       \n",
      "_________________________________________________________________\n",
      "conv1d_6 (Conv1D)            (None, 60, 40)            8840      \n",
      "_________________________________________________________________\n",
      "conv1d_7 (Conv1D)            (None, 30, 80)            35280     \n",
      "_________________________________________________________________\n",
      "conv1d_8 (Conv1D)            (None, 15, 160)           140960    \n",
      "_________________________________________________________________\n",
      "flatten_2 (Flatten)          (None, 2400)              0         \n",
      "=================================================================\n",
      "Total params: 185,320\n",
      "Trainable params: 185,320\n",
      "Non-trainable params: 0\n",
      "_________________________________________________________________\n"
     ]
    }
   ],
   "source": [
    "'------------------------------------------------------------------------------------------------------'\n",
    "'STEP-1: CREATE A NEURAL NETWORK MODEL FOR THE REPRESENTATION'\n",
    "'------------------------------------------------------------------------------------------------------'\n",
    "obj = GANModel_1d(img_rows=240, dropout=0.0, genFilters=250, disFilters=20, filterSize=11)\n",
    "dis1 = obj.disModel_CV_L6s2()\n",
    "'Get the pre-trained weights'\n",
    "dis1.load_weights(('/Volume2/arunFiles/pythonCodeFiles/CRISM_repLearning/modelsOnYukiModel_cR_wGAN' +\n",
    "                   '/Models/Model-4_small/discriminator/dis_cR_75.h5'))\n",
    "disRep = obj.disModel_CV_L6s2_rep(dis1)\n",
    "disRep.summary()"
   ]
  },
  {
   "cell_type": "code",
   "execution_count": 6,
   "metadata": {
    "collapsed": true
   },
   "outputs": [],
   "source": [
    "'------------------------------------------------------------------------------------------------------'\n",
    "'STEP-2: LOAD AND NORMALIZE MICA CONTINUUM REMOVED DATA'\n",
    "'------------------------------------------------------------------------------------------------------'\n",
    "sliName = '/Volume1/data/CRISM/arun/UMass_redMICA_CR_enhanced_v4.sli'\n",
    "sliHdrName = '/Volume1/data/CRISM/arun/UMass_redMICA_CR_enhanced_v4.sli.hdr'\n",
    "\n",
    "'Read in the spectra'\n",
    "micaSLI = envi.open(sliHdrName, sliName)\n",
    "mica_dataRed = micaSLI.spectra\n",
    "mica_dataRed = mica_dataRed[:, 4:244]\n",
    "mica_dataRed = mica_dataRed.reshape(mica_dataRed.shape[0], mica_dataRed.shape[1], 1)\n",
    "\n",
    "'Read in the header'\n",
    "sliHdr = envi.read_envi_header(sliHdrName)\n",
    "endMem_Name = sliHdr['spectra names']\n",
    "wavelength = np.asarray(sliHdr['wavelength'], dtype='single')\n",
    "wavelength = wavelength[4:244]\n",
    "\n",
    "'Get the predictions at output layer for the MICA DATA'\n",
    "mica_dataPreds_l2 = np.asarray(disRep.predict(mica_dataRed))"
   ]
  },
  {
   "cell_type": "code",
   "execution_count": 3,
   "metadata": {},
   "outputs": [],
   "source": [
    "'The test set is'\n",
    "dataStoreLoc = '/Volume2/arunFiles/pythonCodeFiles/CRISM_repLearning/DataStore/modelsOnYukiModel_cR/store_cR_cS.h5'\n",
    "with pd.HDFStore(dataStoreLoc, mode='r') as newstore:\n",
    "    #print newstore.keys()\n",
    "    df_val = newstore.select('CRISM_cR_samp')"
   ]
  },
  {
   "cell_type": "code",
   "execution_count": 4,
   "metadata": {},
   "outputs": [],
   "source": [
    "'On this validation set-make predictions'\n",
    "valSet = np.asarray(df_val)\n",
    "valSet = valSet.reshape(df_val.shape[0], df_val.shape[1],1)\n",
    "\n",
    "'Predict activations on validation set'\n",
    "valSet_Preds = disRep.predict(valSet)"
   ]
  },
  {
   "cell_type": "code",
   "execution_count": 7,
   "metadata": {
    "collapsed": true
   },
   "outputs": [],
   "source": [
    "'Find the cosine distance between the exemplars and the data'\n",
    "dist = np.squeeze(cosineDist(mica_dataPreds_l2, valSet_Preds))"
   ]
  },
  {
   "cell_type": "code",
   "execution_count": 8,
   "metadata": {},
   "outputs": [
    {
     "name": "stdout",
     "output_type": "stream",
     "text": [
      "(27, 1000000)\n"
     ]
    }
   ],
   "source": [
    "print dist.shape"
   ]
  },
  {
   "cell_type": "code",
   "execution_count": 11,
   "metadata": {},
   "outputs": [
    {
     "ename": "NameError",
     "evalue": "name 'i' is not defined",
     "output_type": "error",
     "traceback": [
      "\u001b[0;31m---------------------------------------------------------------------------\u001b[0m",
      "\u001b[0;31mNameError\u001b[0m                                 Traceback (most recent call last)",
      "\u001b[0;32m<ipython-input-11-ee767d66021a>\u001b[0m in \u001b[0;36m<module>\u001b[0;34m()\u001b[0m\n\u001b[1;32m      1\u001b[0m \u001b[0mfig1\u001b[0m\u001b[0;34m=\u001b[0m\u001b[0mplt\u001b[0m\u001b[0;34m.\u001b[0m\u001b[0mfigure\u001b[0m\u001b[0;34m(\u001b[0m\u001b[0;34m)\u001b[0m\u001b[0;34m\u001b[0m\u001b[0m\n\u001b[1;32m      2\u001b[0m \u001b[0max\u001b[0m \u001b[0;34m=\u001b[0m \u001b[0mplt\u001b[0m\u001b[0;34m.\u001b[0m\u001b[0msubplot\u001b[0m\u001b[0;34m(\u001b[0m\u001b[0;36m2\u001b[0m\u001b[0;34m,\u001b[0m\u001b[0;36m2\u001b[0m\u001b[0;34m,\u001b[0m\u001b[0;36m1\u001b[0m\u001b[0;34m)\u001b[0m\u001b[0;34m\u001b[0m\u001b[0m\n\u001b[0;32m----> 3\u001b[0;31m \u001b[0mplt\u001b[0m\u001b[0;34m.\u001b[0m\u001b[0mplot\u001b[0m\u001b[0;34m(\u001b[0m\u001b[0mwavelength\u001b[0m\u001b[0;34m,\u001b[0m \u001b[0mnp\u001b[0m\u001b[0;34m.\u001b[0m\u001b[0msqueeze\u001b[0m\u001b[0;34m(\u001b[0m\u001b[0mmica_dataRed\u001b[0m\u001b[0;34m[\u001b[0m\u001b[0mi\u001b[0m\u001b[0;34m,\u001b[0m\u001b[0;34m:\u001b[0m\u001b[0;34m,\u001b[0m\u001b[0;34m:\u001b[0m\u001b[0;34m]\u001b[0m\u001b[0;34m)\u001b[0m\u001b[0;34m)\u001b[0m\u001b[0;34m\u001b[0m\u001b[0m\n\u001b[0m\u001b[1;32m      4\u001b[0m \u001b[0mplt\u001b[0m\u001b[0;34m.\u001b[0m\u001b[0mtitle\u001b[0m\u001b[0;34m(\u001b[0m\u001b[0;34m'MICA Kaolinite'\u001b[0m\u001b[0;34m)\u001b[0m\u001b[0;34m\u001b[0m\u001b[0m\n\u001b[1;32m      5\u001b[0m \u001b[0;34m\u001b[0m\u001b[0m\n",
      "\u001b[0;31mNameError\u001b[0m: name 'i' is not defined"
     ]
    },
    {
     "data": {
      "image/png": "[encoded data removed]",
      "text/plain": [
       "<Figure size 432x288 with 1 Axes>"
      ]
     },
     "metadata": {
      "needs_background": "light"
     },
     "output_type": "display_data"
    }
   ],
   "source": [
    "i =9\n",
    "'Find the ones closest to Kaolinite'\n",
    "idxSorted_kaol = np.argsort(np.squeeze(dist[9, :])) \n",
    "\n",
    "fig1=plt.figure()\n",
    "ax = plt.subplot(2,2,1)\n",
    "plt.plot(wavelength, np.squeeze(mica_dataRed[i,:,:]))\n",
    "plt.title('MICA Kaolinite')\n",
    "\n",
    "temp = np.squeeze(valSet[idxSorted_kaol[:10],:,:])\n",
    "ax = plt.subplot(2,2,2)\n",
    "plt.plot(np.squeeze(wavelength, temp.T))\n",
    "plt.title('Choices 1-10 Kailinite')"
   ]
  },
  {
   "cell_type": "code",
   "execution_count": null,
   "metadata": {
    "collapsed": true
   },
   "outputs": [],
   "source": []
  }
 ],
 "metadata": {
  "kernelspec": {
   "display_name": "Python 2",
   "language": "python",
   "name": "python2"
  },
  "language_info": {
   "codemirror_mode": {
    "name": "ipython",
    "version": 2
   },
   "file_extension": ".py",
   "mimetype": "text/x-python",
   "name": "python",
   "nbconvert_exporter": "python",
   "pygments_lexer": "ipython2",
   "version": "2.7.12"
  }
 },
 "nbformat": 4,
 "nbformat_minor": 2
}
