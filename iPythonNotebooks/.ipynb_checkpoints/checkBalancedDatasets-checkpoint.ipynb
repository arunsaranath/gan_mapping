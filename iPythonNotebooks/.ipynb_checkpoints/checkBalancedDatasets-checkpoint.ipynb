{
 "cells": [
  {
   "cell_type": "code",
   "execution_count": 1,
   "metadata": {
    "collapsed": true
   },
   "outputs": [],
   "source": [
    "import numpy as np\n",
    "import pandas as pd\n",
    "import matplotlib.pyplot as plt"
   ]
  },
  {
   "cell_type": "code",
   "execution_count": 2,
   "metadata": {
    "collapsed": true
   },
   "outputs": [],
   "source": [
    "dataStore = '/Volume2/arunFiles/python_HSITools/crismBalancingDatasets/dataProducts/store_Composite_balancedDataset_wclassLabels.h5'\n",
    "tableName = 'IF_mixedSamples'\n",
    "\n",
    "with pd.HDFStore(dataStore, mode='r') as newstore:\n",
    "    df_restored = newstore.select(tableName)\n",
    "    x_batch = np.asarray(df_restored)\n",
    "    #x_batch = x_batch.reshape(x_batch.shape[0], x_batch.shape[1], 1)"
   ]
  },
  {
   "cell_type": "code",
   "execution_count": 3,
   "metadata": {},
   "outputs": [
    {
     "name": "stdout",
     "output_type": "stream",
     "text": [
      "(250000, 240)\n"
     ]
    }
   ],
   "source": [
    "print x_batch.shape"
   ]
  },
  {
   "cell_type": "code",
   "execution_count": null,
   "metadata": {
    "collapsed": true
   },
   "outputs": [],
   "source": [
    "fig1 = plt.figure()\n",
    "plt.plot(range(240), x_batch[0,:])"
   ]
  }
 ],
 "metadata": {
  "kernelspec": {
   "display_name": "Python 2",
   "language": "python",
   "name": "python2"
  },
  "language_info": {
   "codemirror_mode": {
    "name": "ipython",
    "version": 2
   },
   "file_extension": ".py",
   "mimetype": "text/x-python",
   "name": "python",
   "nbconvert_exporter": "python",
   "pygments_lexer": "ipython2",
   "version": "2.7.12"
  }
 },
 "nbformat": 4,
 "nbformat_minor": 2
}
