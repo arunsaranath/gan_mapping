{
 "cells": [
  {
   "cell_type": "code",
   "execution_count": 1,
   "metadata": {},
   "outputs": [],
   "source": [
    "import numpy as np\n",
    "import numba as nb\n",
    "from scipy import interpolate\n",
    "from spectral.io import envi\n",
    "import matplotlib.pyplot as plt"
   ]
  },
  {
   "cell_type": "code",
   "execution_count": 2,
   "metadata": {},
   "outputs": [],
   "source": [
    "def convex_hull(wvl, spectrum):\n",
    "    \"\"\"Computes the convex hull of a set of 2D points.\n",
    "\n",
    "    Input: an iterable sequence of (x, y) pairs representing the points.\n",
    "    Output: a list of vertices of the convex hull in counter-clockwise order,\n",
    "      starting from the vertex with the lexicographically smallest coordinates.\n",
    "    Implements the algorithm CONVEXHULL(P) described by  Mark de Berg, Otfried\n",
    "    Cheong, Marc van Kreveld, and Mark Overmars, in Computational Geometry:\n",
    "    Algorithm and Applications, pp. 6-7 in Chapter 1\n",
    "\n",
    "    :param points: A N X 2 matrix with the wavelengths as the first column\n",
    "    :return: The convex hull vector\n",
    "    \"\"\"\n",
    "    'The starting points be the first two points'\n",
    "    xcnt, y = wvl[:2], spectrum[:2]\n",
    "    'Now iterate over the other points'\n",
    "    for ii in range(2, spectrum.shape[0], 1):\n",
    "        'check next prospective convex hull members'\n",
    "        xcnt = np.append(xcnt, wvl[ii])\n",
    "        y = np.append(y, spectrum[ii])\n",
    "        flag = True\n",
    "\n",
    "        while (flag == True):\n",
    "            'Check if a left turn occurs at the central member'\n",
    "            a1 = (y[-2] - y[-3]) / (xcnt[-2] - xcnt[-3])\n",
    "            a2 = (y[-1] - y[-2]) / (xcnt[-1] - xcnt[-2])\n",
    "            if (a2 > a1):\n",
    "                xcnt[-2] = xcnt[-1]\n",
    "                xcnt = xcnt[:-1]\n",
    "                y[-2] = y[-1]\n",
    "                y = y[:-1]\n",
    "                flag = (xcnt.shape[0] > 2);\n",
    "            else:\n",
    "                flag = False\n",
    "\n",
    "    return np.vstack((xcnt, y))"
   ]
  },
  {
   "cell_type": "code",
   "execution_count": 3,
   "metadata": {},
   "outputs": [],
   "source": [
    "@nb.jit(\"f4[:, :](f4[:], f4[:])\")\n",
    "def convex_hull_jit(wvl, spectrum):\n",
    "    \"\"\"Computes the convex hull of a set of 2D points.\n",
    "\n",
    "    Input: an iterable sequence of (x, y) pairs representing the points.\n",
    "    Output: a list of vertices of the convex hull in counter-clockwise order,\n",
    "      starting from the vertex with the lexicographically smallest coordinates.\n",
    "    Implements the algorithm CONVEXHULL(P) described by  Mark de Berg, Otfried\n",
    "    Cheong, Marc van Kreveld, and Mark Overmars, in Computational Geometry:\n",
    "    Algorithm and Applications, pp. 6-7 in Chapter 1\n",
    "\n",
    "    :param points: A N X 2 matrix with the wavelengths as the first column\n",
    "    :return: The convex hull vector\n",
    "    \"\"\"\n",
    "    'The starting points be the first two points'\n",
    "    xcnt, y = wvl[:2], spectrum[:2]\n",
    "    'Now iterate over the other points'\n",
    "    for ii in range(2, spectrum.shape[0], 1):\n",
    "        'check next prospective convex hull members'\n",
    "        xcnt = np.append(xcnt, wvl[ii])\n",
    "        y = np.append(y, spectrum[ii])\n",
    "        flag = True\n",
    "\n",
    "        while (flag == True):\n",
    "            'Check if a left turn occurs at the central member'\n",
    "            a1 = (y[-2] - y[-3]) / (xcnt[-2] - xcnt[-3])\n",
    "            a2 = (y[-1] - y[-2]) / (xcnt[-1] - xcnt[-2])\n",
    "            if (a2 > a1):\n",
    "                xcnt[-2] = xcnt[-1]\n",
    "                xcnt = xcnt[:-1]\n",
    "                y[-2] = y[-1]\n",
    "                y = y[:-1]\n",
    "                flag = (xcnt.shape[0] > 2);\n",
    "            else:\n",
    "                flag = False\n",
    "\n",
    "    return np.vstack((xcnt, y))"
   ]
  },
  {
   "cell_type": "code",
   "execution_count": 4,
   "metadata": {},
   "outputs": [
    {
     "name": "stderr",
     "output_type": "stream",
     "text": [
      "/usr/local/lib/python2.7/dist-packages/numpy/core/_methods.py:29: RuntimeWarning: invalid value encountered in reduce\n",
      "  return umr_minimum(a, axis, None, out, keepdims)\n",
      "/usr/local/lib/python2.7/dist-packages/spectral/io/spyfile.py:252: NaNValueWarning: Image data contains NaN values.\n",
      "  warnings.warn('Image data contains NaN values.', NaNValueWarning)\n"
     ]
    }
   ],
   "source": [
    "'Get an image'\n",
    "imgName = '/Volume2/data/CRISM/AMS/packageTrail/FRT00003E12/FRT00003E12_07_IF166L_TRR3_atcr_sabcondv3_1_Lib1112_1_4_5_redAb_MS.img'\n",
    "imgHdrName = imgName.replace(\".img\", \".hdr\")\n",
    "img = envi.open(imgHdrName, imgName)\n",
    "cube = img.load()\n",
    "[rows, cols, bands] = img.shape\n",
    "cube = img.load()\n",
    "cube = np.asarray(cube[:,:,4:244], dtype=\"f4\")"
   ]
  },
  {
   "cell_type": "code",
   "execution_count": 5,
   "metadata": {},
   "outputs": [],
   "source": [
    "header = envi.read_envi_header(imgHdrName)\n",
    "wvl = header['wavelength']\n",
    "wvl = wvl[4:244]\n",
    "wvl = np.asarray(wvl, dtype='single')"
   ]
  },
  {
   "cell_type": "code",
   "execution_count": 6,
   "metadata": {},
   "outputs": [],
   "source": [
    "row = 309\n",
    "col = 258\n",
    "spectrum = np.squeeze(cube[row, col, :])"
   ]
  },
  {
   "cell_type": "code",
   "execution_count": 7,
   "metadata": {},
   "outputs": [
    {
     "data": {
      "text/plain": [
       "[<matplotlib.lines.Line2D at 0x7ffb6a43ac50>]"
      ]
     },
     "execution_count": 7,
     "metadata": {},
     "output_type": "execute_result"
    },
    {
     "data": {
      "image/png": "[encoded data removed]",
      "text/plain": [
       "<Figure size 432x288 with 1 Axes>"
      ]
     },
     "metadata": {
      "needs_background": "light"
     },
     "output_type": "display_data"
    }
   ],
   "source": [
    "plt.figure()\n",
    "plt.plot(wvl, spectrum)"
   ]
  },
  {
   "cell_type": "code",
   "execution_count": 18,
   "metadata": {},
   "outputs": [
    {
     "name": "stdout",
     "output_type": "stream",
     "text": [
      "CPU times: user 12.8 ms, sys: 242 µs, total: 13 ms\n",
      "Wall time: 11.5 ms\n"
     ]
    }
   ],
   "source": [
    "%time t1 = convex_hull(wvl, spectrum)\n",
    "t1 = convex_hull(wvl, spectrum)"
   ]
  },
  {
   "cell_type": "code",
   "execution_count": 19,
   "metadata": {},
   "outputs": [
    {
     "name": "stdout",
     "output_type": "stream",
     "text": [
      "CPU times: user 408 µs, sys: 123 µs, total: 531 µs\n",
      "Wall time: 542 µs\n"
     ]
    }
   ],
   "source": [
    "%time t2 = convex_hull_jit(wvl, spectrum)\n",
    "t2 = convex_hull_jit(wvl, spectrum)"
   ]
  },
  {
   "cell_type": "code",
   "execution_count": 12,
   "metadata": {},
   "outputs": [
    {
     "name": "stdout",
     "output_type": "stream",
     "text": [
      "[[1.02755    1.71716    1.74351    1.75668    1.77644    1.81598\n",
      "  1.82916    1.85552    2.15251    2.16572    2.17894    2.57571\n",
      "  2.58231    2.59551    2.60212   ]\n",
      " [0.06315543 0.09934148 0.10066267 0.10120349 0.101662   0.10218684\n",
      "  0.1022126  0.1021779  0.09893556 0.09865931 0.0982692  0.08201413\n",
      "  0.0817029  0.08096281 0.08046929]]\n"
     ]
    }
   ],
   "source": [
    "print t1"
   ]
  },
  {
   "cell_type": "code",
   "execution_count": 13,
   "metadata": {},
   "outputs": [
    {
     "name": "stdout",
     "output_type": "stream",
     "text": [
      "(2, 15)\n"
     ]
    }
   ],
   "source": [
    "print t2.shape"
   ]
  },
  {
   "cell_type": "code",
   "execution_count": 14,
   "metadata": {},
   "outputs": [
    {
     "data": {
      "text/plain": [
       "[<matplotlib.lines.Line2D at 0x7ffb6a6f1c50>]"
      ]
     },
     "execution_count": 14,
     "metadata": {},
     "output_type": "execute_result"
    },
    {
     "data": {
      "image/png": "[encoded data removed]",
      "text/plain": [
       "<Figure size 432x288 with 1 Axes>"
      ]
     },
     "metadata": {
      "needs_background": "light"
     },
     "output_type": "display_data"
    }
   ],
   "source": [
    "f = interpolate.interp1d(np.squeeze(t1[0,:]), np.squeeze(t1[1,:]))\n",
    "ycnt = f(wvl)\n",
    "\n",
    "plt.figure()\n",
    "plt.plot(wvl, spectrum, 'b-')\n",
    "plt.plot(wvl, ycnt, 'g--')"
   ]
  },
  {
   "cell_type": "code",
   "execution_count": 17,
   "metadata": {},
   "outputs": [
    {
     "name": "stdout",
     "output_type": "stream",
     "text": [
      "CPU times: user 546 µs, sys: 0 ns, total: 546 µs\n",
      "Wall time: 482 µs\n",
      "CPU times: user 557 µs, sys: 0 ns, total: 557 µs\n",
      "Wall time: 365 µs\n"
     ]
    }
   ],
   "source": [
    "%time f = interpolate.interp1d(np.squeeze(t1[0,:]), np.squeeze(t1[1,:]))\n",
    "%time ycnt = f(wvl)"
   ]
  },
  {
   "cell_type": "code",
   "execution_count": 10,
   "metadata": {},
   "outputs": [
    {
     "data": {
      "text/plain": [
       "480.99999999999994"
      ]
     },
     "execution_count": 10,
     "metadata": {},
     "output_type": "execute_result"
    }
   ],
   "source": [
    "4.81*100"
   ]
  },
  {
   "cell_type": "code",
   "execution_count": 11,
   "metadata": {},
   "outputs": [
    {
     "data": {
      "text/plain": [
       "391.0"
      ]
     },
     "execution_count": 11,
     "metadata": {},
     "output_type": "execute_result"
    }
   ],
   "source": [
    "0.391*1000"
   ]
  },
  {
   "cell_type": "code",
   "execution_count": 16,
   "metadata": {},
   "outputs": [
    {
     "data": {
      "text/plain": [
       "725.0"
      ]
     },
     "execution_count": 16,
     "metadata": {},
     "output_type": "execute_result"
    }
   ],
   "source": [
    "0.0725*10000"
   ]
  },
  {
   "cell_type": "code",
   "execution_count": 21,
   "metadata": {},
   "outputs": [
    {
     "data": {
      "text/plain": [
       "8.889128869690424"
      ]
     },
     "execution_count": 21,
     "metadata": {},
     "output_type": "execute_result"
    }
   ],
   "source": [
    "((11.5*1000) + 482 +365)/(542+482+365)"
   ]
  },
  {
   "cell_type": "code",
   "execution_count": 25,
   "metadata": {},
   "outputs": [
    {
     "ename": "IndentationError",
     "evalue": "expected an indented block (<ipython-input-25-bca8d4e34645>, line 15)",
     "output_type": "error",
     "traceback": [
      "\u001b[0;36m  File \u001b[0;32m\"<ipython-input-25-bca8d4e34645>\"\u001b[0;36m, line \u001b[0;32m15\u001b[0m\n\u001b[0;31m    \"\"\"\u001b[0m\n\u001b[0m       \n^\u001b[0m\n\u001b[0;31mIndentationError\u001b[0m\u001b[0;31m:\u001b[0m expected an indented block\n"
     ]
    }
   ],
   "source": [
    "class c1():\n",
    "    @staticmethod\n",
    "    def convex_hull(wvl, spectrum):\n",
    "        \"\"\"Computes the convex hull of a set of 2D points.\n",
    "\n",
    "        Input: an iterable sequence of (x, y) pairs representing the points.\n",
    "        Output: a list of vertices of the convex hull in counter-clockwise order,\n",
    "          starting from the vertex with the lexicographically smallest coordinates.\n",
    "        Implements the algorithm CONVEXHULL(P) described by  Mark de Berg, Otfried\n",
    "        Cheong, Marc van Kreveld, and Mark Overmars, in Computational Geometry:\n",
    "        Algorithm and Applications, pp. 6-7 in Chapter 1\n",
    "\n",
    "        :param points: A N X 2 matrix with the wavelengths as the first column\n",
    "        :return: The convex hull vector\n",
    "        \"\"\"\n",
    "        'The starting points be the first two points'\n",
    "        xcnt, y = wvl[:2], spectrum[:2]\n",
    "        'Now iterate over the other points'\n",
    "        for ii in range(2, spectrum.shape[0], 1):\n",
    "            'check next prospective convex hull members'\n",
    "            xcnt = np.append(xcnt, wvl[ii])\n",
    "            y = np.append(y, spectrum[ii])\n",
    "            flag = True\n",
    "\n",
    "            while (flag == True):\n",
    "                'Check if a left turn occurs at the central member'\n",
    "                a1 = (y[-2] - y[-3]) / (xcnt[-2] - xcnt[-3])\n",
    "                a2 = (y[-1] - y[-2]) / (xcnt[-1] - xcnt[-2])\n",
    "                if (a2 > a1):\n",
    "                    xcnt[-2] = xcnt[-1]\n",
    "                    xcnt = xcnt[:-1]\n",
    "                    y[-2] = y[-1]\n",
    "                    y = y[:-1]\n",
    "                    flag = (xcnt.shape[0] > 2);\n",
    "                else:\n",
    "                    flag = False\n",
    "\n",
    "        return np.vstack((xcnt, y))\n",
    "\n",
    "    c1_convex_hull = nb.jit(\"f4[:, :](f4[:], f4[:])\")(self.convex_hull)"
   ]
  },
  {
   "cell_type": "code",
   "execution_count": 24,
   "metadata": {},
   "outputs": [
    {
     "ename": "TypeError",
     "evalue": "too many arguments: expected 2, got 3",
     "output_type": "error",
     "traceback": [
      "\u001b[0;31m---------------------------------------------------------------------------\u001b[0m",
      "\u001b[0;31mTypeError\u001b[0m                                 Traceback (most recent call last)",
      "\u001b[0;32m<ipython-input-24-23263f747296>\u001b[0m in \u001b[0;36m<module>\u001b[0;34m()\u001b[0m\n\u001b[1;32m      1\u001b[0m \u001b[0mobj\u001b[0m \u001b[0;34m=\u001b[0m \u001b[0mc1\u001b[0m\u001b[0;34m(\u001b[0m\u001b[0;34m)\u001b[0m\u001b[0;34m\u001b[0m\u001b[0m\n\u001b[0;32m----> 2\u001b[0;31m \u001b[0mget_ipython\u001b[0m\u001b[0;34m(\u001b[0m\u001b[0;34m)\u001b[0m\u001b[0;34m.\u001b[0m\u001b[0mmagic\u001b[0m\u001b[0;34m(\u001b[0m\u001b[0;34mu'time t3 = obj.c1_convex_hull(wvl,spectrum)'\u001b[0m\u001b[0;34m)\u001b[0m\u001b[0;34m\u001b[0m\u001b[0m\n\u001b[0m",
      "\u001b[0;32m/usr/local/lib/python2.7/dist-packages/IPython/core/interactiveshell.pyc\u001b[0m in \u001b[0;36mmagic\u001b[0;34m(self, arg_s)\u001b[0m\n\u001b[1;32m   2158\u001b[0m         \u001b[0mmagic_name\u001b[0m\u001b[0;34m,\u001b[0m \u001b[0m_\u001b[0m\u001b[0;34m,\u001b[0m \u001b[0mmagic_arg_s\u001b[0m \u001b[0;34m=\u001b[0m \u001b[0marg_s\u001b[0m\u001b[0;34m.\u001b[0m\u001b[0mpartition\u001b[0m\u001b[0;34m(\u001b[0m\u001b[0;34m' '\u001b[0m\u001b[0;34m)\u001b[0m\u001b[0;34m\u001b[0m\u001b[0m\n\u001b[1;32m   2159\u001b[0m         \u001b[0mmagic_name\u001b[0m \u001b[0;34m=\u001b[0m \u001b[0mmagic_name\u001b[0m\u001b[0;34m.\u001b[0m\u001b[0mlstrip\u001b[0m\u001b[0;34m(\u001b[0m\u001b[0mprefilter\u001b[0m\u001b[0;34m.\u001b[0m\u001b[0mESC_MAGIC\u001b[0m\u001b[0;34m)\u001b[0m\u001b[0;34m\u001b[0m\u001b[0m\n\u001b[0;32m-> 2160\u001b[0;31m         \u001b[0;32mreturn\u001b[0m \u001b[0mself\u001b[0m\u001b[0;34m.\u001b[0m\u001b[0mrun_line_magic\u001b[0m\u001b[0;34m(\u001b[0m\u001b[0mmagic_name\u001b[0m\u001b[0;34m,\u001b[0m \u001b[0mmagic_arg_s\u001b[0m\u001b[0;34m)\u001b[0m\u001b[0;34m\u001b[0m\u001b[0m\n\u001b[0m\u001b[1;32m   2161\u001b[0m \u001b[0;34m\u001b[0m\u001b[0m\n\u001b[1;32m   2162\u001b[0m     \u001b[0;31m#-------------------------------------------------------------------------\u001b[0m\u001b[0;34m\u001b[0m\u001b[0;34m\u001b[0m\u001b[0m\n",
      "\u001b[0;32m/usr/local/lib/python2.7/dist-packages/IPython/core/interactiveshell.pyc\u001b[0m in \u001b[0;36mrun_line_magic\u001b[0;34m(self, magic_name, line)\u001b[0m\n\u001b[1;32m   2079\u001b[0m                 \u001b[0mkwargs\u001b[0m\u001b[0;34m[\u001b[0m\u001b[0;34m'local_ns'\u001b[0m\u001b[0;34m]\u001b[0m \u001b[0;34m=\u001b[0m \u001b[0msys\u001b[0m\u001b[0;34m.\u001b[0m\u001b[0m_getframe\u001b[0m\u001b[0;34m(\u001b[0m\u001b[0mstack_depth\u001b[0m\u001b[0;34m)\u001b[0m\u001b[0;34m.\u001b[0m\u001b[0mf_locals\u001b[0m\u001b[0;34m\u001b[0m\u001b[0m\n\u001b[1;32m   2080\u001b[0m             \u001b[0;32mwith\u001b[0m \u001b[0mself\u001b[0m\u001b[0;34m.\u001b[0m\u001b[0mbuiltin_trap\u001b[0m\u001b[0;34m:\u001b[0m\u001b[0;34m\u001b[0m\u001b[0m\n\u001b[0;32m-> 2081\u001b[0;31m                 \u001b[0mresult\u001b[0m \u001b[0;34m=\u001b[0m \u001b[0mfn\u001b[0m\u001b[0;34m(\u001b[0m\u001b[0;34m*\u001b[0m\u001b[0margs\u001b[0m\u001b[0;34m,\u001b[0m\u001b[0;34m**\u001b[0m\u001b[0mkwargs\u001b[0m\u001b[0;34m)\u001b[0m\u001b[0;34m\u001b[0m\u001b[0m\n\u001b[0m\u001b[1;32m   2082\u001b[0m             \u001b[0;32mreturn\u001b[0m \u001b[0mresult\u001b[0m\u001b[0;34m\u001b[0m\u001b[0m\n\u001b[1;32m   2083\u001b[0m \u001b[0;34m\u001b[0m\u001b[0m\n",
      "\u001b[0;32m<decorator-gen-60>\u001b[0m in \u001b[0;36mtime\u001b[0;34m(self, line, cell, local_ns)\u001b[0m\n",
      "\u001b[0;32m/usr/local/lib/python2.7/dist-packages/IPython/core/magic.pyc\u001b[0m in \u001b[0;36m<lambda>\u001b[0;34m(f, *a, **k)\u001b[0m\n\u001b[1;32m    186\u001b[0m     \u001b[0;31m# but it's overkill for just that one bit of state.\u001b[0m\u001b[0;34m\u001b[0m\u001b[0;34m\u001b[0m\u001b[0m\n\u001b[1;32m    187\u001b[0m     \u001b[0;32mdef\u001b[0m \u001b[0mmagic_deco\u001b[0m\u001b[0;34m(\u001b[0m\u001b[0marg\u001b[0m\u001b[0;34m)\u001b[0m\u001b[0;34m:\u001b[0m\u001b[0;34m\u001b[0m\u001b[0m\n\u001b[0;32m--> 188\u001b[0;31m         \u001b[0mcall\u001b[0m \u001b[0;34m=\u001b[0m \u001b[0;32mlambda\u001b[0m \u001b[0mf\u001b[0m\u001b[0;34m,\u001b[0m \u001b[0;34m*\u001b[0m\u001b[0ma\u001b[0m\u001b[0;34m,\u001b[0m \u001b[0;34m**\u001b[0m\u001b[0mk\u001b[0m\u001b[0;34m:\u001b[0m \u001b[0mf\u001b[0m\u001b[0;34m(\u001b[0m\u001b[0;34m*\u001b[0m\u001b[0ma\u001b[0m\u001b[0;34m,\u001b[0m \u001b[0;34m**\u001b[0m\u001b[0mk\u001b[0m\u001b[0;34m)\u001b[0m\u001b[0;34m\u001b[0m\u001b[0m\n\u001b[0m\u001b[1;32m    189\u001b[0m \u001b[0;34m\u001b[0m\u001b[0m\n\u001b[1;32m    190\u001b[0m         \u001b[0;32mif\u001b[0m \u001b[0mcallable\u001b[0m\u001b[0;34m(\u001b[0m\u001b[0marg\u001b[0m\u001b[0;34m)\u001b[0m\u001b[0;34m:\u001b[0m\u001b[0;34m\u001b[0m\u001b[0m\n",
      "\u001b[0;32m/usr/local/lib/python2.7/dist-packages/IPython/core/magics/execution.pyc\u001b[0m in \u001b[0;36mtime\u001b[0;34m(self, line, cell, local_ns)\u001b[0m\n\u001b[1;32m   1183\u001b[0m         \u001b[0;32melse\u001b[0m\u001b[0;34m:\u001b[0m\u001b[0;34m\u001b[0m\u001b[0m\n\u001b[1;32m   1184\u001b[0m             \u001b[0mst\u001b[0m \u001b[0;34m=\u001b[0m \u001b[0mclock2\u001b[0m\u001b[0;34m(\u001b[0m\u001b[0;34m)\u001b[0m\u001b[0;34m\u001b[0m\u001b[0m\n\u001b[0;32m-> 1185\u001b[0;31m             \u001b[0;32mexec\u001b[0m\u001b[0;34m(\u001b[0m\u001b[0mcode\u001b[0m\u001b[0;34m,\u001b[0m \u001b[0mglob\u001b[0m\u001b[0;34m,\u001b[0m \u001b[0mlocal_ns\u001b[0m\u001b[0;34m)\u001b[0m\u001b[0;34m\u001b[0m\u001b[0m\n\u001b[0m\u001b[1;32m   1186\u001b[0m             \u001b[0mend\u001b[0m \u001b[0;34m=\u001b[0m \u001b[0mclock2\u001b[0m\u001b[0;34m(\u001b[0m\u001b[0;34m)\u001b[0m\u001b[0;34m\u001b[0m\u001b[0m\n\u001b[1;32m   1187\u001b[0m             \u001b[0mout\u001b[0m \u001b[0;34m=\u001b[0m \u001b[0mNone\u001b[0m\u001b[0;34m\u001b[0m\u001b[0m\n",
      "\u001b[0;32m<timed exec>\u001b[0m in \u001b[0;36m<module>\u001b[0;34m()\u001b[0m\n",
      "\u001b[0;31mTypeError\u001b[0m: too many arguments: expected 2, got 3"
     ]
    }
   ],
   "source": [
    "obj = c1()\n",
    "%time t3 = obj.c1_convex_hull(wvl,spectrum)"
   ]
  },
  {
   "cell_type": "code",
   "execution_count": null,
   "metadata": {
    "collapsed": true
   },
   "outputs": [],
   "source": []
  }
 ],
 "metadata": {
  "kernelspec": {
   "display_name": "Python 2",
   "language": "python",
   "name": "python2"
  },
  "language_info": {
   "codemirror_mode": {
    "name": "ipython",
    "version": 2
   },
   "file_extension": ".py",
   "mimetype": "text/x-python",
   "name": "python",
   "nbconvert_exporter": "python",
   "pygments_lexer": "ipython2",
   "version": "2.7.12"
  }
 },
 "nbformat": 4,
 "nbformat_minor": 2
}
