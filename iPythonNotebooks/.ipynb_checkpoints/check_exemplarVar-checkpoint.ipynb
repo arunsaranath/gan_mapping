{
 "cells": [
  {
   "cell_type": "code",
   "execution_count": 1,
   "metadata": {},
   "outputs": [
    {
     "name": "stderr",
     "output_type": "stream",
     "text": [
      "/usr/local/lib/python2.7/dist-packages/h5py/__init__.py:36: FutureWarning: Conversion of the second argument of issubdtype from `float` to `np.floating` is deprecated. In future, it will be treated as `np.float64 == np.dtype(float).type`.\n",
      "  from ._conv import register_converters as _register_converters\n",
      "Using TensorFlow backend.\n",
      "/usr/local/lib/python2.7/dist-packages/requests/__init__.py:83: RequestsDependencyWarning: Old version of cryptography ([1, 2, 3]) may cause slowdown.\n",
      "  warnings.warn(warning, RequestsDependencyWarning)\n"
     ]
    }
   ],
   "source": [
    "'import libraries of interest'\n",
    "from spectral.io import envi\n",
    "import numpy as np\n",
    "\n",
    "from ganTraining import GANModel_1d "
   ]
  },
  {
   "cell_type": "code",
   "execution_count": 2,
   "metadata": {},
   "outputs": [
    {
     "name": "stdout",
     "output_type": "stream",
     "text": [
      "WARNING:tensorflow:From /usr/local/lib/python2.7/dist-packages/tensorflow/python/util/deprecation.py:497: calling conv1d (from tensorflow.python.ops.nn_ops) with data_format=NHWC is deprecated and will be removed in a future version.\n",
      "Instructions for updating:\n",
      "`NHWC` for data_format is deprecated, use `NWC` instead\n",
      "_________________________________________________________________\n",
      "Layer (type)                 Output Shape              Param #   \n",
      "=================================================================\n",
      "conv1d_5 (Conv1D)            (None, 120, 20)           240       \n",
      "_________________________________________________________________\n",
      "conv1d_6 (Conv1D)            (None, 60, 40)            8840      \n",
      "_________________________________________________________________\n",
      "conv1d_7 (Conv1D)            (None, 30, 80)            35280     \n",
      "_________________________________________________________________\n",
      "conv1d_8 (Conv1D)            (None, 15, 160)           140960    \n",
      "_________________________________________________________________\n",
      "flatten_2 (Flatten)          (None, 2400)              0         \n",
      "=================================================================\n",
      "Total params: 185,320\n",
      "Trainable params: 185,320\n",
      "Non-trainable params: 0\n",
      "_________________________________________________________________\n"
     ]
    }
   ],
   "source": [
    "'------------------------------------------------------------------------------------------------------'\n",
    "'STEP-1: CREATE A NEURAL NETWORK MODEL FOR THE REPRESENTATION'\n",
    "'------------------------------------------------------------------------------------------------------'\n",
    "obj = GANModel_1d(img_rows=240, dropout=0.0, genFilters=250, disFilters=20, filterSize=11)\n",
    "dis1 = obj.disModel_CV_L6s2()\n",
    "'Get the pre-trained weights'\n",
    "dis1.load_weights(('/Volume2/arunFiles/pythonCodeFiles/CRISM_repLearning/modelsOnYukiModel_cR_wGAN' +\n",
    "                   '/Models/Model-4_small/discriminator/dis_cR_75.h5'))\n",
    "disRep = obj.disModel_CV_L6s2_rep(dis1)\n",
    "disRep.summary()"
   ]
  },
  {
   "cell_type": "code",
   "execution_count": 4,
   "metadata": {},
   "outputs": [],
   "source": [
    "'------------------------------------------------------------------------------------------------------'\n",
    "'STEP-2: LOAD AND NORMALIZE MICA CONTINUUM REMOVED DATA'\n",
    "'------------------------------------------------------------------------------------------------------'\n",
    "sliName = '/Volume1/data/CRISM/arun/UMass_redMICA_CR_enhanced_v4.sli'\n",
    "sliHdrName = '/Volume1/data/CRISM/arun/UMass_redMICA_CR_enhanced_v4.sli.hdr'\n",
    "\n",
    "'Read in the spectra'\n",
    "micaSLI = envi.open(sliHdrName, sliName)\n",
    "mica_dataRed = micaSLI.spectra\n",
    "mica_dataRed = mica_dataRed[:, 4:244]\n",
    "mica_dataRed = mica_dataRed.reshape(mica_dataRed.shape[0], mica_dataRed.shape[1], 1)\n",
    "\n",
    "'Read in the header'\n",
    "sliHdr = envi.read_envi_header(sliHdrName)\n",
    "endMem_Name = sliHdr['spectra names']\n",
    "wavelength = np.asarray(sliHdr['wavelength'], dtype='single')\n",
    "wavelength = wavelength[4:244]\n",
    "\n",
    "'Get the predictions at output layer for the MICA DATA'\n",
    "mica_dataPreds_l2 = np.asarray(model.predict(mica_dataRed))"
   ]
  },
  {
   "cell_type": "code",
   "execution_count": null,
   "metadata": {
    "collapsed": true
   },
   "outputs": [],
   "source": []
  }
 ],
 "metadata": {
  "kernelspec": {
   "display_name": "Python 2",
   "language": "python",
   "name": "python2"
  },
  "language_info": {
   "codemirror_mode": {
    "name": "ipython",
    "version": 2
   },
   "file_extension": ".py",
   "mimetype": "text/x-python",
   "name": "python",
   "nbconvert_exporter": "python",
   "pygments_lexer": "ipython2",
   "version": "2.7.12"
  }
 },
 "nbformat": 4,
 "nbformat_minor": 2
}
