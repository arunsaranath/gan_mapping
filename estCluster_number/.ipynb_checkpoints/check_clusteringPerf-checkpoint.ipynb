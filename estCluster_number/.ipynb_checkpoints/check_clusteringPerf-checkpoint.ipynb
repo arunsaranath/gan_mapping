{
 "cells": [
  {
   "cell_type": "code",
   "execution_count": 1,
   "metadata": {},
   "outputs": [],
   "source": [
    "'Import core libraries'\n",
    "import numpy as np\n",
    "import math\n",
    "from fastdist import fastdist as fd\n",
    "from sklearn.metrics import silhouette_score\n",
    "from scipy.optimize import linear_sum_assignment as linear_assignment\n",
    "from tqdm import tqdm\n",
    "from matplotlib import pyplot as plt\n",
    "\n",
    "'Import user-defined libraries'\n",
    "from hsiUtilities.crism_ganProc_utils import crism_ganProc_utils\n",
    "from SemiSupervisedKMeans.semiSupervised_kmeans import KMeans"
   ]
  },
  {
   "cell_type": "code",
   "execution_count": 2,
   "metadata": {},
   "outputs": [
    {
     "name": "stdout",
     "output_type": "stream",
     "text": [
      "(20000, 240, 1)\n",
      "(20000,)\n"
     ]
    }
   ],
   "source": [
    "'Load the test data'\n",
    "with open('trail.npy', 'rb') as f:\n",
    "    x = np.load(f)\n",
    "    y = np.load(f)"
   ]
  },
  {
   "cell_type": "code",
   "execution_count": 3,
   "metadata": {},
   "outputs": [],
   "source": [
    "'Mask classes  7-12 to be unknown classes'\n",
    "y_probe = y.copy()\n",
    "y_probe[y_probe >= 7] = -1\n",
    "\n",
    "'Get 4 classes to be in the anchor set'\n",
    "known_classes = [0, 1, 2, 3]\n",
    "known_data = []\n",
    "for ii in known_classes:\n",
    "    'Find some example of chosen supervised class'\n",
    "    temp = np.where(y_probe == ii)[0]\n",
    "    'Add them to the list of known data'\n",
    "    known_data += [temp]"
   ]
  },
  {
   "cell_type": "code",
   "execution_count": 4,
   "metadata": {},
   "outputs": [],
   "source": [
    "'Create the feature extractor of interest'\n",
    "disRep = crism_ganProc_utils().create_rep_model()\n",
    "\n",
    "'Get the feature space representation for the data'\n",
    "x_rep = disRep.predict(x)\n",
    "x_rep = x_rep.astype(np.float64)"
   ]
  },
  {
   "cell_type": "code",
   "execution_count": 8,
   "metadata": {},
   "outputs": [],
   "source": [
    "'Using the cluster estimation technique from Han et al- the number of clusters was estimated at 15'\n",
    "kmeans_semi = KMeans(k=15, known_data=known_data, verbose=False)\n",
    "kmeans_semi_results = kmeans_semi.fit_predict(x_rep)"
   ]
  },
  {
   "cell_type": "code",
   "execution_count": 19,
   "metadata": {},
   "outputs": [
    {
     "name": "stdout",
     "output_type": "stream",
     "text": [
      "(15, 240)\n"
     ]
    }
   ],
   "source": [
    "'Find the means of the identified clusters'\n",
    "x_clust_mean= []\n",
    "nSamp= []\n",
    "for ii in range(15):\n",
    "    idx = np.where(kmeans_semi_results == ii)[0]\n",
    "    x_clust = np.squeeze(x[idx])\n",
    "    x_clust_mean.append(np.mean(x_clust, axis=0))\n",
    "    nSamp.append(idx.shape[0])\n",
    "    \n",
    "x_clust_mean = np.asarray(x_clust_mean)\n",
    "print(x_clust_mean.shape)"
   ]
  },
  {
   "cell_type": "code",
   "execution_count": null,
   "metadata": {},
   "outputs": [],
   "source": [
    "fig12, ax = plt.subplots(5,3,sharex=True, figsize=(9,9))\n",
    "for ii in range(15):\n",
    "    row = ii // 3\n",
    "    col = ii % 3\n",
    "    \n",
    "    ax[row, col].plot(range(240), x_clust_mean[ii])\n",
    "    \n",
    "    if row == 2:\n",
    "        ax[row, col].set_xlabel('Wavelength')\n",
    "        ax[row, col].set_xticks(np.arange(0, 240, 1))\n",
    "            \n",
    "    if col == 0:\n",
    "        ax[row, col].set_ylabel('CRISM I/F')\n",
    "        \n",
    "    \n",
    "    ax[row, col].axes.yaxis.set_ticklabels([])  \n",
    "    ax[row, col].set_title(('# of Samp:' + str(nSamp[ii])))"
   ]
  },
  {
   "cell_type": "code",
   "execution_count": null,
   "metadata": {},
   "outputs": [],
   "source": []
  }
 ],
 "metadata": {
  "kernelspec": {
   "display_name": "Python 3",
   "language": "python",
   "name": "python3"
  },
  "language_info": {
   "codemirror_mode": {
    "name": "ipython",
    "version": 3
   },
   "file_extension": ".py",
   "mimetype": "text/x-python",
   "name": "python",
   "nbconvert_exporter": "python",
   "pygments_lexer": "ipython3",
   "version": "3.8.5"
  }
 },
 "nbformat": 4,
 "nbformat_minor": 4
}
